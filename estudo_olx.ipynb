{
  "nbformat": 4,
  "nbformat_minor": 0,
  "metadata": {
    "colab": {
      "provenance": [],
      "mount_file_id": "1GCLtRYsAwXcsAzsAgsRtJd1osOlphUqx",
      "authorship_tag": "ABX9TyMUby0nYsoZKLFf+aaj1uuo",
      "include_colab_link": true
    },
    "kernelspec": {
      "name": "python3",
      "display_name": "Python 3"
    },
    "language_info": {
      "name": "python"
    }
  },
  "cells": [
    {
      "cell_type": "markdown",
      "metadata": {
        "id": "view-in-github",
        "colab_type": "text"
      },
      "source": [
        "<a href=\"https://colab.research.google.com/github/antoineelmallah/olx_colab/blob/main/estudo_olx.ipynb\" target=\"_parent\"><img src=\"https://colab.research.google.com/assets/colab-badge.svg\" alt=\"Open In Colab\"/></a>"
      ]
    },
    {
      "cell_type": "markdown",
      "source": [
        "# 1. Retrieve advertising data"
      ],
      "metadata": {
        "id": "Xp6yW35wOzeu"
      }
    },
    {
      "cell_type": "code",
      "source": [
        "!pip install geobr\n",
        "\n",
        "import geobr\n",
        "\n",
        "import matplotlib.pyplot as plt\n",
        "import pandas as pd\n",
        "import io\n",
        "import numpy as np\n",
        "import seaborn as sns"
      ],
      "metadata": {
        "id": "IY-3oquhJIHz",
        "colab": {
          "base_uri": "https://localhost:8080/"
        },
        "outputId": "2f414941-500e-45dc-b0eb-d19cc9a1ed6f"
      },
      "execution_count": null,
      "outputs": [
        {
          "output_type": "stream",
          "name": "stdout",
          "text": [
            "Requirement already satisfied: geobr in /usr/local/lib/python3.10/dist-packages (0.2.1)\n",
            "Requirement already satisfied: geopandas<0.15.0,>=0.14.0 in /usr/local/lib/python3.10/dist-packages (from geobr) (0.14.4)\n",
            "Requirement already satisfied: lxml<6.0.0,>=5.1.0 in /usr/local/lib/python3.10/dist-packages (from geobr) (5.2.2)\n",
            "Requirement already satisfied: requests<3.0.0,>=2.25.1 in /usr/local/lib/python3.10/dist-packages (from geobr) (2.31.0)\n",
            "Requirement already satisfied: shapely<2.0.0,>=1.7.0 in /usr/local/lib/python3.10/dist-packages (from geobr) (1.8.5.post1)\n",
            "Requirement already satisfied: fiona>=1.8.21 in /usr/local/lib/python3.10/dist-packages (from geopandas<0.15.0,>=0.14.0->geobr) (1.9.6)\n",
            "Requirement already satisfied: numpy>=1.22 in /usr/local/lib/python3.10/dist-packages (from geopandas<0.15.0,>=0.14.0->geobr) (1.25.2)\n",
            "Requirement already satisfied: packaging in /usr/local/lib/python3.10/dist-packages (from geopandas<0.15.0,>=0.14.0->geobr) (24.0)\n",
            "Requirement already satisfied: pandas>=1.4.0 in /usr/local/lib/python3.10/dist-packages (from geopandas<0.15.0,>=0.14.0->geobr) (2.0.3)\n",
            "Requirement already satisfied: pyproj>=3.3.0 in /usr/local/lib/python3.10/dist-packages (from geopandas<0.15.0,>=0.14.0->geobr) (3.6.1)\n",
            "Requirement already satisfied: charset-normalizer<4,>=2 in /usr/local/lib/python3.10/dist-packages (from requests<3.0.0,>=2.25.1->geobr) (3.3.2)\n",
            "Requirement already satisfied: idna<4,>=2.5 in /usr/local/lib/python3.10/dist-packages (from requests<3.0.0,>=2.25.1->geobr) (3.7)\n",
            "Requirement already satisfied: urllib3<3,>=1.21.1 in /usr/local/lib/python3.10/dist-packages (from requests<3.0.0,>=2.25.1->geobr) (2.0.7)\n",
            "Requirement already satisfied: certifi>=2017.4.17 in /usr/local/lib/python3.10/dist-packages (from requests<3.0.0,>=2.25.1->geobr) (2024.6.2)\n",
            "Requirement already satisfied: attrs>=19.2.0 in /usr/local/lib/python3.10/dist-packages (from fiona>=1.8.21->geopandas<0.15.0,>=0.14.0->geobr) (23.2.0)\n",
            "Requirement already satisfied: click~=8.0 in /usr/local/lib/python3.10/dist-packages (from fiona>=1.8.21->geopandas<0.15.0,>=0.14.0->geobr) (8.1.7)\n",
            "Requirement already satisfied: click-plugins>=1.0 in /usr/local/lib/python3.10/dist-packages (from fiona>=1.8.21->geopandas<0.15.0,>=0.14.0->geobr) (1.1.1)\n",
            "Requirement already satisfied: cligj>=0.5 in /usr/local/lib/python3.10/dist-packages (from fiona>=1.8.21->geopandas<0.15.0,>=0.14.0->geobr) (0.7.2)\n",
            "Requirement already satisfied: six in /usr/local/lib/python3.10/dist-packages (from fiona>=1.8.21->geopandas<0.15.0,>=0.14.0->geobr) (1.16.0)\n",
            "Requirement already satisfied: python-dateutil>=2.8.2 in /usr/local/lib/python3.10/dist-packages (from pandas>=1.4.0->geopandas<0.15.0,>=0.14.0->geobr) (2.8.2)\n",
            "Requirement already satisfied: pytz>=2020.1 in /usr/local/lib/python3.10/dist-packages (from pandas>=1.4.0->geopandas<0.15.0,>=0.14.0->geobr) (2023.4)\n",
            "Requirement already satisfied: tzdata>=2022.1 in /usr/local/lib/python3.10/dist-packages (from pandas>=1.4.0->geopandas<0.15.0,>=0.14.0->geobr) (2024.1)\n"
          ]
        }
      ]
    },
    {
      "cell_type": "code",
      "source": [
        "from google.colab import files\n",
        "uploaded = files.upload()"
      ],
      "metadata": {
        "id": "AmijNdpEtBTi"
      },
      "execution_count": null,
      "outputs": []
    },
    {
      "cell_type": "code",
      "source": [
        "dados = pd.read_csv(io.BytesIO(uploaded['olx_advertising.csv']), sep=';')\n",
        "dados.head()"
      ],
      "metadata": {
        "id": "wYfiDjWSJI48"
      },
      "execution_count": null,
      "outputs": []
    },
    {
      "cell_type": "code",
      "source": [
        "dados.dtypes"
      ],
      "metadata": {
        "id": "E5-r2959t4QA"
      },
      "execution_count": null,
      "outputs": []
    },
    {
      "cell_type": "markdown",
      "source": [
        "# 2. Pre-processing"
      ],
      "metadata": {
        "id": "5JW_0CmNPNCN"
      }
    },
    {
      "cell_type": "code",
      "source": [
        "dados.info()"
      ],
      "metadata": {
        "id": "3r1WkKIqQrrI"
      },
      "execution_count": null,
      "outputs": []
    },
    {
      "cell_type": "code",
      "source": [
        "dados.describe()"
      ],
      "metadata": {
        "id": "ULlg3T7WRNqg"
      },
      "execution_count": null,
      "outputs": []
    },
    {
      "cell_type": "markdown",
      "source": [
        "## 2.1. Split accessories into columns"
      ],
      "metadata": {
        "id": "qAsm9NExZfZz"
      }
    },
    {
      "cell_type": "code",
      "source": [
        "# Split accessory into columns and removing accessories column\n",
        "accessories = [ acc.split(', ') for acc in dados['accessories'] if type(acc) == str ]\n",
        "accessories = set([ acc for acc_list in accessories for acc in acc_list ])\n",
        "for accessory in accessories:\n",
        "  dados[accessory] = dados['accessories'].str.contains(f'\\, { accessory }, ', regex=True)\n",
        "\n",
        "dados.drop(['accessories'], axis='columns', inplace=True)\n",
        "\n",
        "dados.head(5)"
      ],
      "metadata": {
        "id": "ijfITkYOVulz"
      },
      "execution_count": null,
      "outputs": []
    },
    {
      "cell_type": "markdown",
      "source": [
        "## 2.2. Fill empty values"
      ],
      "metadata": {
        "id": "mNS-ZOkUme19"
      }
    },
    {
      "cell_type": "code",
      "source": [
        "# Door field\n",
        "# Extract door number from model field, if exists\n",
        "dados['doors'].fillna(value=dados['model'].str.extract(r'^.*\\s(\\d)P\\s.*$', expand=False).apply(lambda x : int(x) if not pd.isna(x) else None), inplace=True)\n",
        "# Set mean for other empty values\n",
        "door_mean = dados.describe()['doors']['mean']\n",
        "dados['doors'].fillna(door_mean, inplace=True)"
      ],
      "metadata": {
        "id": "uVMdAJ6LjLky"
      },
      "execution_count": null,
      "outputs": []
    },
    {
      "cell_type": "code",
      "source": [
        "# HP field\n",
        "# Extract hp number from model field, if exists\n",
        "dados['hp'].fillna(value=dados['model'].str.extract(r'^.*\\s(\\d\\.\\d)\\s.*$', expand=False).apply(lambda x : float(x) if not pd.isna(x) else None), inplace=True)\n",
        "# Set mean for other empty values\n",
        "door_mean = dados.describe()['hp']['mean']\n",
        "dados['hp'].fillna(door_mean, inplace=True)"
      ],
      "metadata": {
        "id": "QHsupNwHEKth"
      },
      "execution_count": null,
      "outputs": []
    },
    {
      "cell_type": "code",
      "source": [
        "#def get_label_that_appear_in_text(text, labels, other):\n",
        "#  for label in labels:\n",
        "#    if label.lower() in text.lower():\n",
        "#      return label\n",
        "#  return other"
      ],
      "metadata": {
        "id": "AnkAF7IOMvZm"
      },
      "execution_count": null,
      "outputs": []
    },
    {
      "cell_type": "code",
      "source": [
        "# Accessories\n",
        "for accessory in accessories:\n",
        "  dados[accessory].fillna(False, inplace=True)"
      ],
      "metadata": {
        "id": "mIJ8BaoqFXBk"
      },
      "execution_count": null,
      "outputs": []
    },
    {
      "cell_type": "code",
      "source": [
        "def fill_numeric_na_with_mean(dados: pd.DataFrame, field: str):\n",
        "  dados[field].fillna(dados.describe()[field]['mean'], inplace=True)"
      ],
      "metadata": {
        "id": "2jJCTGRXYR0c"
      },
      "execution_count": null,
      "outputs": []
    },
    {
      "cell_type": "code",
      "source": [
        "# Fill empty numeric values with mean\n",
        "fill_numeric_na_with_mean(dados, 'latitude')\n",
        "fill_numeric_na_with_mean(dados, 'longitude')\n",
        "fill_numeric_na_with_mean(dados, 'hp')"
      ],
      "metadata": {
        "id": "IJRrAMDXZZ_J"
      },
      "execution_count": null,
      "outputs": []
    },
    {
      "cell_type": "markdown",
      "source": [
        "## 2.3. Format columns"
      ],
      "metadata": {
        "id": "mICW-dsdPwio"
      }
    },
    {
      "cell_type": "code",
      "source": [
        "# format date fields\n",
        "dados['creation_date'] = pd.to_datetime(dados['creation_date'], format='%Y-%m-%d %H:%M:%S.%f').apply(lambda d : d.floor('D'))\n",
        "dados['last_update_date'] = pd.to_datetime(dados['last_update_date'], format='%Y-%m-%d %H:%M:%S.%f').apply(lambda d : d.floor('D'))"
      ],
      "metadata": {
        "id": "MeT5zHQKRpf0"
      },
      "execution_count": null,
      "outputs": []
    },
    {
      "cell_type": "code",
      "source": [
        "last_processing_date = dados['last_update_date'].max().floor('D')\n",
        "last_processing_date"
      ],
      "metadata": {
        "id": "yee5Nq9vREww"
      },
      "execution_count": null,
      "outputs": []
    },
    {
      "cell_type": "code",
      "source": [
        "# Create date related columns\n",
        "dados['activated period'] = (dados['last_update_date'] - dados['creation_date']).dt.days\n",
        "dados['closed'] = dados['last_update_date'] < last_processing_date"
      ],
      "metadata": {
        "id": "BL7Tlh9IP2-7"
      },
      "execution_count": null,
      "outputs": []
    },
    {
      "cell_type": "code",
      "source": [
        "# Formatting model column\n",
        "dados['model'] = dados['model'].str.split(f'\\s').apply(lambda x : ' '.join(x[:2]))"
      ],
      "metadata": {
        "id": "cI3-b5V3w_mW"
      },
      "execution_count": null,
      "outputs": []
    },
    {
      "cell_type": "code",
      "source": [
        "def split_categoric_data_into_columns(dados: pd.DataFrame, field: str):\n",
        "  columns = dados[dados[field].isna() == False][field].unique()\n",
        "  result = pd.DataFrame(columns=columns)\n",
        "  for column in columns:\n",
        "    result[column] = dados[field] == column\n",
        "  return result"
      ],
      "metadata": {
        "id": "Qr6RExY9lZG3"
      },
      "execution_count": null,
      "outputs": []
    },
    {
      "cell_type": "code",
      "source": [
        "# split_categoric_data_into_columns(dados, 'category')\n",
        "df = pd.concat([dados,\n",
        "    split_categoric_data_into_columns(dados, 'model'),\n",
        "    split_categoric_data_into_columns(dados, 'brand'),\n",
        "    split_categoric_data_into_columns(dados, 'vehicle_type'),\n",
        "    split_categoric_data_into_columns(dados, 'fuel'),\n",
        "    split_categoric_data_into_columns(dados, 'gear'),\n",
        "    split_categoric_data_into_columns(dados, 'color'),\n",
        "    split_categoric_data_into_columns(dados, 'steering')],\n",
        "    axis='columns')\n",
        "df.drop(columns=['model', 'brand', 'vehicle_type', 'fuel', 'gear', 'color', 'steering'], inplace=True)"
      ],
      "metadata": {
        "id": "79LaqhAxmJhf"
      },
      "execution_count": null,
      "outputs": []
    },
    {
      "cell_type": "code",
      "source": [
        "# calculating price variation\n",
        "df['price variation'] = df['last_price'] - df['first_price']\n",
        "df.drop(columns=['first_price', 'last_price'], inplace=True)"
      ],
      "metadata": {
        "id": "uC5aPO9VpOkT"
      },
      "execution_count": null,
      "outputs": []
    },
    {
      "cell_type": "markdown",
      "source": [
        "## 2.4. Removing not closed advertising"
      ],
      "metadata": {
        "id": "NpbNTNfpd5Gh"
      }
    },
    {
      "cell_type": "code",
      "source": [
        "threshold = 5\n",
        "df = df[(df['closed'] == True) | (df['activated period'] > threshold)]\n",
        "df.reset_index(drop=True, inplace=True)\n",
        "df.head(5)"
      ],
      "metadata": {
        "id": "4nkFQNYleQfV"
      },
      "execution_count": null,
      "outputs": []
    },
    {
      "cell_type": "code",
      "source": [
        "df.shape"
      ],
      "metadata": {
        "id": "P2xAqeMzj45c"
      },
      "execution_count": null,
      "outputs": []
    },
    {
      "cell_type": "markdown",
      "source": [
        "## 2.5. Removing unused columns"
      ],
      "metadata": {
        "id": "bcihdmzZm_BI"
      }
    },
    {
      "cell_type": "markdown",
      "source": [
        "## 3. Random forest"
      ],
      "metadata": {
        "id": "VE83_WUdqKXq"
      }
    },
    {
      "cell_type": "code",
      "source": [
        "# Verification after pre-processing\n",
        "df.describe()"
      ],
      "metadata": {
        "id": "CM3MI1fpm0Fo"
      },
      "execution_count": null,
      "outputs": []
    },
    {
      "cell_type": "code",
      "source": [
        "y = df['activated period'] <= threshold"
      ],
      "metadata": {
        "id": "PFxsk8OYqVFg"
      },
      "execution_count": null,
      "outputs": []
    },
    {
      "cell_type": "code",
      "source": [
        "columns_to_keep = [ column for column in df.columns if column not in {\n",
        "    'id',\n",
        "    'code',\n",
        "    'category',\n",
        "    'creation_date',\n",
        "    'last_update_date',\n",
        "    'city',\n",
        "    'activated period',\n",
        "    'closed'} ]\n",
        "X = df[columns_to_keep]"
      ],
      "metadata": {
        "id": "OouJHpGBm9Hk"
      },
      "execution_count": null,
      "outputs": []
    },
    {
      "cell_type": "code",
      "source": [
        "# normalization\n",
        "from sklearn import preprocessing\n",
        "import numpy as np\n",
        "\n",
        "cols = X.columns\n",
        "scaler = preprocessing.MinMaxScaler(feature_range=(0, 2))\n",
        "X = pd.DataFrame(scaler.fit_transform(X), columns=cols)\n",
        "X"
      ],
      "metadata": {
        "id": "98u5HSQva30F"
      },
      "execution_count": null,
      "outputs": []
    },
    {
      "cell_type": "code",
      "source": [
        "from sklearn.datasets import load_iris\n",
        "from sklearn.feature_selection import chi2\n",
        "from sklearn.feature_selection import SelectKBest\n",
        "\n",
        "skb = SelectKBest(chi2, k=10)\n",
        "skb.fit(X, y)\n",
        "cols_idxs = skb.get_support(indices=True)\n",
        "X = X.iloc[:, cols_idxs]"
      ],
      "metadata": {
        "id": "jBjpzsgSaJsz"
      },
      "execution_count": null,
      "outputs": []
    },
    {
      "cell_type": "code",
      "source": [
        "# correlation analysis\n",
        "correlation = X.corr()\n",
        "plot = sns.heatmap(correlation, annot=True, fmt='.1f', linewidths=.6)\n",
        "plot"
      ],
      "metadata": {
        "id": "FKz53SJxU2H1"
      },
      "execution_count": null,
      "outputs": []
    },
    {
      "cell_type": "code",
      "source": [
        "# Split train and test data\n",
        "from sklearn.model_selection import train_test_split\n",
        "\n",
        "SEED = 1\n",
        "\n",
        "X_train, X_test, y_train, y_test = train_test_split(X, y, test_size=0.2, random_state=SEED)"
      ],
      "metadata": {
        "id": "sphPWSuPq7Qz"
      },
      "execution_count": null,
      "outputs": []
    },
    {
      "cell_type": "code",
      "source": [
        "from sklearn.ensemble import RandomForestClassifier\n",
        "\n",
        "clf = RandomForestClassifier(n_estimators=100, # numero de árvores de decisão (default=100)\n",
        "                             max_depth=15, # número de níveis máximo que cada árvore de decisão deve ter\n",
        "                             random_state=SEED)\n",
        "clf.fit(X_train, y_train)\n",
        "y_pred = clf.predict(X_test)"
      ],
      "metadata": {
        "id": "ZJKYzTQWr22M"
      },
      "execution_count": null,
      "outputs": []
    },
    {
      "cell_type": "code",
      "source": [
        "clf.feature_importances_"
      ],
      "metadata": {
        "id": "2Tq8SyFBYS5H"
      },
      "execution_count": null,
      "outputs": []
    },
    {
      "cell_type": "code",
      "source": [
        "importances = pd.Series(data=clf.feature_importances_, index=X.columns)\n",
        "sns.barplot(x=importances, y=importances.index, orient='h').set_title('Importância de cada feature')\n"
      ],
      "metadata": {
        "id": "st4_fvhiYpm_"
      },
      "execution_count": null,
      "outputs": []
    },
    {
      "cell_type": "code",
      "source": [
        "print('\\n** Analise do modelo')\n",
        "from sklearn.metrics import classification_report, confusion_matrix\n",
        "cm = confusion_matrix(y_test, y_pred)\n",
        "sns.heatmap(cm, annot=True, fmt='d').set_title('Short time advertising - confusion matrix (0, 1)')\n",
        "print(classification_report(y_test,y_pred))\n"
      ],
      "metadata": {
        "id": "ZzBPDSMSsuF1"
      },
      "execution_count": null,
      "outputs": []
    },
    {
      "cell_type": "code",
      "source": [
        "# Carros mais anunciados\n",
        "dados[['model', 'year', 'id']]\\\n",
        "  .groupby(by=['model', 'year'])\\\n",
        "  .count()\\\n",
        "  .sort_values(by='id', ascending=False)\\\n",
        "  .head(10)"
      ],
      "metadata": {
        "id": "1AMygtHxIFXw"
      },
      "execution_count": null,
      "outputs": []
    },
    {
      "cell_type": "code",
      "source": [
        "# Carros mais vendidos\n",
        "dados[(dados['closed']) | (dados['last_update_date'] < last_processing_date)][['model', 'year', 'id']]\\\n",
        "  .groupby(by=['model', 'year'])\\\n",
        "  .count()\\\n",
        "  .sort_values(by='id', ascending=False)\\\n",
        "  .head(10)"
      ],
      "metadata": {
        "id": "LwO29YYBLpHA"
      },
      "execution_count": null,
      "outputs": []
    },
    {
      "cell_type": "code",
      "source": [
        "# Carros com maior variação de preço no anuncio\n",
        "dados['price_variation'] = dados['last_price'] - dados['first_price']\n",
        "dados[['model', 'year', 'first_price', 'price_variation']]\\\n",
        "  .groupby(by=['model', 'year'])\\\n",
        "  .mean()\\\n",
        "  .sort_values(by='price_variation', ascending=False)\\\n",
        "  .head(10)"
      ],
      "metadata": {
        "id": "imXJ7zgYMvK8"
      },
      "execution_count": null,
      "outputs": []
    },
    {
      "cell_type": "code",
      "source": [
        "all_muni = geobr.read_municipality(code_muni=\"RJ\", year=2022)\n",
        "\n",
        "dados_per_city = dados[['city', 'price_variation']].groupby(by='city').mean().reset_index()\n",
        "\n",
        "all_muni['name_muni'] = all_muni['name_muni'].str.lower()\n",
        "dados_per_city['city'] = dados_per_city['city'].str.lower()\n",
        "\n",
        "all_muni = all_muni.merge(dados_per_city, how='left', left_on='name_muni', right_on='city')"
      ],
      "metadata": {
        "id": "FoClWMfxX5Xn"
      },
      "execution_count": null,
      "outputs": []
    },
    {
      "cell_type": "code",
      "source": [
        "#all_muni = geobr.read_municipality(code_muni=\"RJ\", year=2010)\n",
        "\n",
        "#all_muni['name_muni'] = all_muni['name_muni'].str.lower()\n",
        "#dados['city'] = dados['city'].str.lower()\n",
        "\n",
        "#all_muni = all_muni.merge(dados, how='left', left_on='name_muni', right_on='city')\n",
        "\n",
        "fig, ax = plt.subplots(figsize=(15, 15), dpi=300)\n",
        "\n",
        "all_muni.plot(\n",
        "    column='price_variation',\n",
        "    #facecolor=\"#2D3E50\",\n",
        "    edgecolor=\"#000000\",\n",
        "    cmap=\"viridis\",\n",
        "    legend=True,\n",
        "    legend_kwds={\n",
        "        \"label\": \"Price variation\",\n",
        "        \"orientation\": \"horizontal\",\n",
        "        \"shrink\": 0.6,\n",
        "    },\n",
        "    ax=ax)\n",
        "\n",
        "ax.set_title(\"Municipalities of Rio de Janeiro, 2022\", fontsize=20)\n",
        "ax.axis(\"off\")"
      ],
      "metadata": {
        "id": "zKPfOSdxO76t"
      },
      "execution_count": null,
      "outputs": []
    }
  ]
}